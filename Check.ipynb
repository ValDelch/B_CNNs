{
 "cells": [
  {
   "cell_type": "code",
   "execution_count": 1,
   "id": "e4d79dd9-2848-477c-87a1-dc09cd6f2356",
   "metadata": {},
   "outputs": [
    {
     "name": "stdout",
     "output_type": "stream",
     "text": [
      "(21, 21)\n"
     ]
    },
    {
     "data": {
      "image/png": "[encoded data removed]",
      "text/plain": [
       "<Figure size 432x288 with 1 Axes>"
      ]
     },
     "metadata": {
      "needs_background": "light"
     },
     "output_type": "display_data"
    }
   ],
   "source": [
    "import numpy as np\n",
    "import matplotlib.pyplot as plt\n",
    "\n",
    "image_res = 21\n",
    "radius = image_res // 2\n",
    "\n",
    "ini_im = [[0,0,0,0,0,0,0,0,0,0,0,0,0,0,0,0,0,0,0,0,0],\n",
    "          [0,0,0,0,0,0,0,0,0,0,0,0,0,0,0,0,0,0,0,0,0],\n",
    "          [0,0,0,0,0,0,0,0,0,0,0,0,0,0,0,0,0,0,0,0,0],\n",
    "          [0,0,0,0,0,0,0,0,0,0,0,0,0,0,0,0,0,0,0,0,0],\n",
    "          [0,0,0,0,0,0,1,1,1,1,1,1,1,1,1,0,0,0,0,0,0],\n",
    "          [0,0,0,0,0,0,1,1,1,1,1,1,1,1,1,0,0,0,0,0,0],\n",
    "          [0,0,0,0,0,0,1,1,0,0,0,0,0,0,0,0,0,0,0,0,0],\n",
    "          [0,0,0,0,0,0,1,1,0,0,0,0,0,0,0,0,0,0,0,0,0],\n",
    "          [0,0,0,0,0,0,1,1,0,0,0,0,0,0,0,0,0,0,0,0,0],\n",
    "          [0,0,0,0,0,0,1,1,1,1,1,1,1,1,0,0,0,0,0,0,0],\n",
    "          [0,0,0,0,0,0,1,1,1,1,1,1,1,1,0,0,0,0,0,0,0],\n",
    "          [0,0,0,0,0,0,1,1,0,0,0,0,0,0,0,0,0,0,0,0,0],\n",
    "          [0,0,0,0,0,0,1,1,0,0,0,0,0,0,0,0,0,0,0,0,0],\n",
    "          [0,0,0,0,0,0,1,1,0,0,0,0,0,0,0,0,0,0,0,0,0],\n",
    "          [0,0,0,0,0,0,1,1,0,0,0,0,0,0,0,0,0,0,0,0,0],\n",
    "          [0,0,0,0,0,0,1,1,0,0,0,0,0,0,0,0,0,0,0,0,0],\n",
    "          [0,0,0,0,0,0,1,1,0,0,0,0,0,0,0,0,0,0,0,0,0],\n",
    "          [0,0,0,0,0,0,0,0,0,0,0,0,0,0,0,0,0,0,0,0,0],\n",
    "          [0,0,0,0,0,0,0,0,0,0,0,0,0,0,0,0,0,0,0,0,0],\n",
    "          [0,0,0,0,0,0,0,0,0,0,0,0,0,0,0,0,0,0,0,0,0],\n",
    "          [0,0,0,0,0,0,0,0,0,0,0,0,0,0,0,0,0,0,0,0,0],]\n",
    "ini_im = np.random.uniform(size=(21,21))\n",
    "ini_im = np.abs(np.array(ini_im)-1)\n",
    "mask_pos = np.zeros((image_res, image_res))\n",
    "for i in range(image_res):\n",
    "    for j in range(image_res):\n",
    "        if np.sqrt((i-radius)**2 + (j-radius)**2) > radius:\n",
    "            mask_pos[i,j] = 1.\n",
    "mask_neg = np.abs((mask_pos - 1))\n",
    "            \n",
    "#plt.imshow(ini_im*mask_neg+mask_pos, cmap='gray', vmin=0.0, vmax=1.0)\n",
    "plt.imshow(ini_im, cmap='gray', vmin=0.0, vmax=1.0)\n",
    "plt.axis(False);\n",
    "print(ini_im.shape)"
   ]
  },
  {
   "cell_type": "code",
   "execution_count": 2,
   "id": "5c57584d-82ab-48a2-96fa-3a681ce52e62",
   "metadata": {},
   "outputs": [
    {
     "data": {
      "text/plain": [
       "(-0.5, 20.5, 20.5, -0.5)"
      ]
     },
     "execution_count": 2,
     "metadata": {},
     "output_type": "execute_result"
    },
    {
     "data": {
      "image/png": "[encoded data removed]",
      "text/plain": [
       "<Figure size 432x288 with 1 Axes>"
      ]
     },
     "metadata": {
      "needs_background": "light"
     },
     "output_type": "display_data"
    }
   ],
   "source": [
    "from imutils import rotate\n",
    "\n",
    "new_im = rotate(ini_im.astype(np.double), 90)\n",
    "plt.imshow(new_im, cmap='gray', vmin=0.0, vmax=1.0)\n",
    "plt.axis(False)"
   ]
  },
  {
   "cell_type": "code",
   "execution_count": 3,
   "id": "80dcbe28-3940-429a-8d81-eedd1d1d1857",
   "metadata": {},
   "outputs": [
    {
     "name": "stderr",
     "output_type": "stream",
     "text": [
      "C:\\Users\\vdelchev\\Documents\\PythonVENVs\\MainEnv\\lib\\site-packages\\scipy\\__init__.py:146: UserWarning: A NumPy version >=1.16.5 and <1.23.0 is required for this version of SciPy (detected version 1.23.4\n",
      "  warnings.warn(f\"A NumPy version >={np_minversion} and <{np_maxversion}\"\n"
     ]
    }
   ],
   "source": [
    "from BesselConv2d import BesselConv2d\n",
    "\n",
    "from tensorflow import keras"
   ]
  },
  {
   "cell_type": "code",
   "execution_count": 4,
   "id": "7a81ef1a-3b2e-4523-93c9-660ed8c824dc",
   "metadata": {},
   "outputs": [
    {
     "name": "stdout",
     "output_type": "stream",
     "text": [
      "Model: \"sequential\"\n",
      "_________________________________________________________________\n",
      " Layer (type)                Output Shape              Param #   \n",
      "=================================================================\n",
      " bessel_conv2d (BesselConv2d  (None, 11, 11, 1)        31265     \n",
      " )                                                               \n",
      "                                                                 \n",
      "=================================================================\n",
      "Total params: 31,265\n",
      "Trainable params: 289\n",
      "Non-trainable params: 30,976\n",
      "_________________________________________________________________\n"
     ]
    }
   ],
   "source": [
    "model = keras.models.Sequential()\n",
    "\n",
    "k = 11 ; n_filters = 1\n",
    "model.add(BesselConv2d(k=k, C_out=n_filters, reflex_inv=False, scale_inv=False, \n",
    "                       strides=1, padding='VALID', activation=None, CNNWarmup=None,\n",
    "                       input_shape=(21,21,1)))\n",
    "model.build(input_shape=(None, 21, 21, 1))\n",
    "model.summary()"
   ]
  },
  {
   "cell_type": "code",
   "execution_count": null,
   "id": "bce35c58-2630-4a96-b7f6-548dfde02487",
   "metadata": {},
   "outputs": [],
   "source": []
  },
  {
   "cell_type": "code",
   "execution_count": 5,
   "id": "6fdeea87-bf66-4cd1-9266-34520aa64f7c",
   "metadata": {},
   "outputs": [
    {
     "name": "stdout",
     "output_type": "stream",
     "text": [
      "[<tf.Variable 'bessel_conv2d/weights_real_part:0' shape=(16, 8, 1) dtype=float32, numpy=\n",
      "array([[[ 0.09070907],\n",
      "        [ 0.01883868],\n",
      "        [ 0.09476955],\n",
      "        [ 0.01966465],\n",
      "        [-0.0702592 ],\n",
      "        [ 0.02276518],\n",
      "        [ 0.        ],\n",
      "        [ 0.        ]],\n",
      "\n",
      "       [[ 0.12112536],\n",
      "        [ 0.08784898],\n",
      "        [-0.1269398 ],\n",
      "        [-0.01939477],\n",
      "        [ 0.1037098 ],\n",
      "        [ 0.        ],\n",
      "        [ 0.        ],\n",
      "        [ 0.        ]],\n",
      "\n",
      "       [[-0.0035047 ],\n",
      "        [-0.07405005],\n",
      "        [ 0.03252682],\n",
      "        [-0.11767151],\n",
      "        [-0.12549992],\n",
      "        [ 0.07038092],\n",
      "        [ 0.        ],\n",
      "        [ 0.        ]],\n",
      "\n",
      "       [[-0.05466065],\n",
      "        [-0.07986889],\n",
      "        [-0.11214039],\n",
      "        [ 0.14950582],\n",
      "        [-0.19465129],\n",
      "        [ 0.        ],\n",
      "        [ 0.        ],\n",
      "        [ 0.        ]],\n",
      "\n",
      "       [[ 0.12958927],\n",
      "        [ 0.19204445],\n",
      "        [ 0.22949232],\n",
      "        [-0.01206693],\n",
      "        [ 0.08857194],\n",
      "        [ 0.        ],\n",
      "        [ 0.        ],\n",
      "        [ 0.        ]],\n",
      "\n",
      "       [[ 0.01969044],\n",
      "        [-0.15245514],\n",
      "        [-0.10114859],\n",
      "        [-0.12617838],\n",
      "        [ 0.        ],\n",
      "        [ 0.        ],\n",
      "        [ 0.        ],\n",
      "        [ 0.        ]],\n",
      "\n",
      "       [[-0.08310894],\n",
      "        [ 0.03371229],\n",
      "        [ 0.02297323],\n",
      "        [-0.03797013],\n",
      "        [ 0.        ],\n",
      "        [ 0.        ],\n",
      "        [ 0.        ],\n",
      "        [ 0.        ]],\n",
      "\n",
      "       [[-0.020485  ],\n",
      "        [-0.06558855],\n",
      "        [ 0.1415322 ],\n",
      "        [-0.08587066],\n",
      "        [ 0.        ],\n",
      "        [ 0.        ],\n",
      "        [ 0.        ],\n",
      "        [ 0.        ]],\n",
      "\n",
      "       [[ 0.00868321],\n",
      "        [-0.01600636],\n",
      "        [ 0.17538595],\n",
      "        [ 0.        ],\n",
      "        [ 0.        ],\n",
      "        [ 0.        ],\n",
      "        [ 0.        ],\n",
      "        [ 0.        ]],\n",
      "\n",
      "       [[-0.14775935],\n",
      "        [ 0.22695473],\n",
      "        [-0.22742549],\n",
      "        [ 0.        ],\n",
      "        [ 0.        ],\n",
      "        [ 0.        ],\n",
      "        [ 0.        ],\n",
      "        [ 0.        ]],\n",
      "\n",
      "       [[ 0.04592079],\n",
      "        [-0.01269044],\n",
      "        [-0.15452524],\n",
      "        [ 0.        ],\n",
      "        [ 0.        ],\n",
      "        [ 0.        ],\n",
      "        [ 0.        ],\n",
      "        [ 0.        ]],\n",
      "\n",
      "       [[-0.17726387],\n",
      "        [-0.08189861],\n",
      "        [ 0.        ],\n",
      "        [ 0.        ],\n",
      "        [ 0.        ],\n",
      "        [ 0.        ],\n",
      "        [ 0.        ],\n",
      "        [ 0.        ]],\n",
      "\n",
      "       [[-0.11148256],\n",
      "        [-0.19486871],\n",
      "        [ 0.        ],\n",
      "        [ 0.        ],\n",
      "        [ 0.        ],\n",
      "        [ 0.        ],\n",
      "        [ 0.        ],\n",
      "        [ 0.        ]],\n",
      "\n",
      "       [[-0.24015182],\n",
      "        [ 0.02075344],\n",
      "        [ 0.        ],\n",
      "        [ 0.        ],\n",
      "        [ 0.        ],\n",
      "        [ 0.        ],\n",
      "        [ 0.        ],\n",
      "        [ 0.        ]],\n",
      "\n",
      "       [[-0.12903483],\n",
      "        [ 0.18991394],\n",
      "        [ 0.        ],\n",
      "        [ 0.        ],\n",
      "        [ 0.        ],\n",
      "        [ 0.        ],\n",
      "        [ 0.        ],\n",
      "        [ 0.        ]],\n",
      "\n",
      "       [[-0.06113649],\n",
      "        [ 0.15506692],\n",
      "        [ 0.        ],\n",
      "        [ 0.        ],\n",
      "        [ 0.        ],\n",
      "        [ 0.        ],\n",
      "        [ 0.        ],\n",
      "        [ 0.        ]]], dtype=float32)>, <tf.Variable 'bessel_conv2d/weights_imag_part:0' shape=(16, 8, 1) dtype=float32, numpy=\n",
      "array([[[ 0.        ],\n",
      "        [ 0.        ],\n",
      "        [ 0.        ],\n",
      "        [ 0.        ],\n",
      "        [ 0.        ],\n",
      "        [ 0.        ],\n",
      "        [ 0.        ],\n",
      "        [ 0.        ]],\n",
      "\n",
      "       [[-0.11155388],\n",
      "        [-0.12229408],\n",
      "        [-0.14245546],\n",
      "        [-0.13274026],\n",
      "        [-0.06893113],\n",
      "        [ 0.        ],\n",
      "        [ 0.        ],\n",
      "        [ 0.        ]],\n",
      "\n",
      "       [[ 0.0238397 ],\n",
      "        [-0.10619742],\n",
      "        [-0.01783971],\n",
      "        [ 0.00884274],\n",
      "        [-0.04173551],\n",
      "        [-0.00705193],\n",
      "        [ 0.        ],\n",
      "        [ 0.        ]],\n",
      "\n",
      "       [[ 0.07644322],\n",
      "        [ 0.07164448],\n",
      "        [-0.13925679],\n",
      "        [ 0.01564308],\n",
      "        [ 0.03120157],\n",
      "        [ 0.        ],\n",
      "        [ 0.        ],\n",
      "        [ 0.        ]],\n",
      "\n",
      "       [[ 0.0009975 ],\n",
      "        [ 0.06630432],\n",
      "        [ 0.2205384 ],\n",
      "        [ 0.14466143],\n",
      "        [ 0.12858185],\n",
      "        [ 0.        ],\n",
      "        [ 0.        ],\n",
      "        [ 0.        ]],\n",
      "\n",
      "       [[ 0.05550549],\n",
      "        [-0.17033002],\n",
      "        [ 0.1411443 ],\n",
      "        [ 0.04278551],\n",
      "        [ 0.        ],\n",
      "        [ 0.        ],\n",
      "        [ 0.        ],\n",
      "        [ 0.        ]],\n",
      "\n",
      "       [[ 0.11538835],\n",
      "        [ 0.02079727],\n",
      "        [ 0.14466295],\n",
      "        [ 0.11404107],\n",
      "        [ 0.        ],\n",
      "        [ 0.        ],\n",
      "        [ 0.        ],\n",
      "        [ 0.        ]],\n",
      "\n",
      "       [[ 0.25965068],\n",
      "        [ 0.05664056],\n",
      "        [-0.00615917],\n",
      "        [ 0.16114546],\n",
      "        [ 0.        ],\n",
      "        [ 0.        ],\n",
      "        [ 0.        ],\n",
      "        [ 0.        ]],\n",
      "\n",
      "       [[-0.10267876],\n",
      "        [-0.01914166],\n",
      "        [-0.14443524],\n",
      "        [ 0.        ],\n",
      "        [ 0.        ],\n",
      "        [ 0.        ],\n",
      "        [ 0.        ],\n",
      "        [ 0.        ]],\n",
      "\n",
      "       [[-0.11259811],\n",
      "        [ 0.05459437],\n",
      "        [-0.14235136],\n",
      "        [ 0.        ],\n",
      "        [ 0.        ],\n",
      "        [ 0.        ],\n",
      "        [ 0.        ],\n",
      "        [ 0.        ]],\n",
      "\n",
      "       [[ 0.19853662],\n",
      "        [ 0.0353288 ],\n",
      "        [-0.00390643],\n",
      "        [ 0.        ],\n",
      "        [ 0.        ],\n",
      "        [ 0.        ],\n",
      "        [ 0.        ],\n",
      "        [ 0.        ]],\n",
      "\n",
      "       [[-0.11239205],\n",
      "        [-0.09630787],\n",
      "        [ 0.        ],\n",
      "        [ 0.        ],\n",
      "        [ 0.        ],\n",
      "        [ 0.        ],\n",
      "        [ 0.        ],\n",
      "        [ 0.        ]],\n",
      "\n",
      "       [[ 0.10720893],\n",
      "        [ 0.05675689],\n",
      "        [ 0.        ],\n",
      "        [ 0.        ],\n",
      "        [ 0.        ],\n",
      "        [ 0.        ],\n",
      "        [ 0.        ],\n",
      "        [ 0.        ]],\n",
      "\n",
      "       [[ 0.05185451],\n",
      "        [ 0.05388974],\n",
      "        [ 0.        ],\n",
      "        [ 0.        ],\n",
      "        [ 0.        ],\n",
      "        [ 0.        ],\n",
      "        [ 0.        ],\n",
      "        [ 0.        ]],\n",
      "\n",
      "       [[-0.0895192 ],\n",
      "        [-0.06685959],\n",
      "        [ 0.        ],\n",
      "        [ 0.        ],\n",
      "        [ 0.        ],\n",
      "        [ 0.        ],\n",
      "        [ 0.        ],\n",
      "        [ 0.        ]],\n",
      "\n",
      "       [[ 0.1018969 ],\n",
      "        [ 0.07115815],\n",
      "        [ 0.        ],\n",
      "        [ 0.        ],\n",
      "        [ 0.        ],\n",
      "        [ 0.        ],\n",
      "        [ 0.        ],\n",
      "        [ 0.        ]]], dtype=float32)>, <tf.Variable 'bessel_conv2d/biases:0' shape=(1,) dtype=float32, numpy=array([0.00927511], dtype=float32)>, <tf.Variable 'bessel_conv2d/multiplier:0' shape=(32,) dtype=float32, numpy=\n",
      "array([0.9625366 , 1.0188204 , 0.9618381 , 1.0117941 , 0.9294997 ,\n",
      "       0.9217757 , 1.0889206 , 1.0622857 , 0.9363075 , 1.0460479 ,\n",
      "       0.9892873 , 0.95660734, 0.9273557 , 0.99997103, 0.9259609 ,\n",
      "       0.9560833 , 0.91095775, 0.99082714, 1.0256717 , 1.082933  ,\n",
      "       1.0186026 , 0.940399  , 1.0613616 , 1.0159899 , 0.9889755 ,\n",
      "       0.9629789 , 0.92323345, 1.0418031 , 1.0893304 , 1.0581785 ,\n",
      "       0.98148894, 0.9762821 ], dtype=float32)>, <tf.Variable 'bessel_conv2d/transMat_r_0:0' shape=(16, 121, 8) dtype=float32, numpy=\n",
      "array([[[0., 0., 0., ..., 0., 0., 0.],\n",
      "        [0., 0., 0., ..., 0., 0., 0.],\n",
      "        [0., 0., 0., ..., 0., 0., 0.],\n",
      "        ...,\n",
      "        [0., 0., 0., ..., 0., 0., 0.],\n",
      "        [0., 0., 0., ..., 0., 0., 0.],\n",
      "        [0., 0., 0., ..., 0., 0., 0.]],\n",
      "\n",
      "       [[0., 0., 0., ..., 0., 0., 0.],\n",
      "        [0., 0., 0., ..., 0., 0., 0.],\n",
      "        [0., 0., 0., ..., 0., 0., 0.],\n",
      "        ...,\n",
      "        [0., 0., 0., ..., 0., 0., 0.],\n",
      "        [0., 0., 0., ..., 0., 0., 0.],\n",
      "        [0., 0., 0., ..., 0., 0., 0.]],\n",
      "\n",
      "       [[0., 0., 0., ..., 0., 0., 0.],\n",
      "        [0., 0., 0., ..., 0., 0., 0.],\n",
      "        [0., 0., 0., ..., 0., 0., 0.],\n",
      "        ...,\n",
      "        [0., 0., 0., ..., 0., 0., 0.],\n",
      "        [0., 0., 0., ..., 0., 0., 0.],\n",
      "        [0., 0., 0., ..., 0., 0., 0.]],\n",
      "\n",
      "       ...,\n",
      "\n",
      "       [[0., 0., 0., ..., 0., 0., 0.],\n",
      "        [0., 0., 0., ..., 0., 0., 0.],\n",
      "        [0., 0., 0., ..., 0., 0., 0.],\n",
      "        ...,\n",
      "        [0., 0., 0., ..., 0., 0., 0.],\n",
      "        [0., 0., 0., ..., 0., 0., 0.],\n",
      "        [0., 0., 0., ..., 0., 0., 0.]],\n",
      "\n",
      "       [[0., 0., 0., ..., 0., 0., 0.],\n",
      "        [0., 0., 0., ..., 0., 0., 0.],\n",
      "        [0., 0., 0., ..., 0., 0., 0.],\n",
      "        ...,\n",
      "        [0., 0., 0., ..., 0., 0., 0.],\n",
      "        [0., 0., 0., ..., 0., 0., 0.],\n",
      "        [0., 0., 0., ..., 0., 0., 0.]],\n",
      "\n",
      "       [[0., 0., 0., ..., 0., 0., 0.],\n",
      "        [0., 0., 0., ..., 0., 0., 0.],\n",
      "        [0., 0., 0., ..., 0., 0., 0.],\n",
      "        ...,\n",
      "        [0., 0., 0., ..., 0., 0., 0.],\n",
      "        [0., 0., 0., ..., 0., 0., 0.],\n",
      "        [0., 0., 0., ..., 0., 0., 0.]]], dtype=float32)>, <tf.Variable 'bessel_conv2d/transMat_i_0:0' shape=(16, 121, 8) dtype=float32, numpy=\n",
      "array([[[0., 0., 0., ..., 0., 0., 0.],\n",
      "        [0., 0., 0., ..., 0., 0., 0.],\n",
      "        [0., 0., 0., ..., 0., 0., 0.],\n",
      "        ...,\n",
      "        [0., 0., 0., ..., 0., 0., 0.],\n",
      "        [0., 0., 0., ..., 0., 0., 0.],\n",
      "        [0., 0., 0., ..., 0., 0., 0.]],\n",
      "\n",
      "       [[0., 0., 0., ..., 0., 0., 0.],\n",
      "        [0., 0., 0., ..., 0., 0., 0.],\n",
      "        [0., 0., 0., ..., 0., 0., 0.],\n",
      "        ...,\n",
      "        [0., 0., 0., ..., 0., 0., 0.],\n",
      "        [0., 0., 0., ..., 0., 0., 0.],\n",
      "        [0., 0., 0., ..., 0., 0., 0.]],\n",
      "\n",
      "       [[0., 0., 0., ..., 0., 0., 0.],\n",
      "        [0., 0., 0., ..., 0., 0., 0.],\n",
      "        [0., 0., 0., ..., 0., 0., 0.],\n",
      "        ...,\n",
      "        [0., 0., 0., ..., 0., 0., 0.],\n",
      "        [0., 0., 0., ..., 0., 0., 0.],\n",
      "        [0., 0., 0., ..., 0., 0., 0.]],\n",
      "\n",
      "       ...,\n",
      "\n",
      "       [[0., 0., 0., ..., 0., 0., 0.],\n",
      "        [0., 0., 0., ..., 0., 0., 0.],\n",
      "        [0., 0., 0., ..., 0., 0., 0.],\n",
      "        ...,\n",
      "        [0., 0., 0., ..., 0., 0., 0.],\n",
      "        [0., 0., 0., ..., 0., 0., 0.],\n",
      "        [0., 0., 0., ..., 0., 0., 0.]],\n",
      "\n",
      "       [[0., 0., 0., ..., 0., 0., 0.],\n",
      "        [0., 0., 0., ..., 0., 0., 0.],\n",
      "        [0., 0., 0., ..., 0., 0., 0.],\n",
      "        ...,\n",
      "        [0., 0., 0., ..., 0., 0., 0.],\n",
      "        [0., 0., 0., ..., 0., 0., 0.],\n",
      "        [0., 0., 0., ..., 0., 0., 0.]],\n",
      "\n",
      "       [[0., 0., 0., ..., 0., 0., 0.],\n",
      "        [0., 0., 0., ..., 0., 0., 0.],\n",
      "        [0., 0., 0., ..., 0., 0., 0.],\n",
      "        ...,\n",
      "        [0., 0., 0., ..., 0., 0., 0.],\n",
      "        [0., 0., 0., ..., 0., 0., 0.],\n",
      "        [0., 0., 0., ..., 0., 0., 0.]]], dtype=float32)>]\n"
     ]
    }
   ],
   "source": [
    "print(model.layers[0].weights)"
   ]
  },
  {
   "cell_type": "code",
   "execution_count": 6,
   "id": "22de8c7f-1fcc-41db-98bc-7141faebbefa",
   "metadata": {},
   "outputs": [
    {
     "name": "stdout",
     "output_type": "stream",
     "text": [
      "1/1 [==============================] - 0s 201ms/step\n"
     ]
    }
   ],
   "source": [
    "out1 = model.predict(ini_im[None,:,:,None])"
   ]
  },
  {
   "cell_type": "code",
   "execution_count": 7,
   "id": "36d6ef41-8eee-4941-bd3f-ead478834c9a",
   "metadata": {},
   "outputs": [
    {
     "name": "stdout",
     "output_type": "stream",
     "text": [
      "1/1 [==============================] - 0s 16ms/step\n"
     ]
    }
   ],
   "source": [
    "out2 = model.predict(new_im[None,:,:,None])"
   ]
  },
  {
   "cell_type": "code",
   "execution_count": 8,
   "id": "7a1ff0a8-e6b6-48ad-a035-5f0d22daa919",
   "metadata": {},
   "outputs": [
    {
     "data": {
      "text/plain": [
       "<matplotlib.image.AxesImage at 0x227d35e0790>"
      ]
     },
     "execution_count": 8,
     "metadata": {},
     "output_type": "execute_result"
    },
    {
     "data": {
      "image/png": "[encoded data removed]",
      "text/plain": [
       "<Figure size 432x288 with 1 Axes>"
      ]
     },
     "metadata": {
      "needs_background": "light"
     },
     "output_type": "display_data"
    }
   ],
   "source": [
    "plt.imshow(out1[0,:,:,0])"
   ]
  },
  {
   "cell_type": "code",
   "execution_count": 9,
   "id": "59a60317-6952-4a92-97ba-74a054c34c72",
   "metadata": {},
   "outputs": [
    {
     "data": {
      "text/plain": [
       "<matplotlib.image.AxesImage at 0x227d3620730>"
      ]
     },
     "execution_count": 9,
     "metadata": {},
     "output_type": "execute_result"
    },
    {
     "data": {
      "image/png": "[encoded data removed]",
      "text/plain": [
       "<Figure size 432x288 with 1 Axes>"
      ]
     },
     "metadata": {
      "needs_background": "light"
     },
     "output_type": "display_data"
    }
   ],
   "source": [
    "plt.imshow(rotate(out2[0,:,:,0], -90))"
   ]
  },
  {
   "cell_type": "code",
   "execution_count": null,
   "id": "0baa9d07-98b0-4bbb-a497-c23b8ff94f28",
   "metadata": {},
   "outputs": [],
   "source": []
  }
 ],
 "metadata": {
  "kernelspec": {
   "display_name": "Python 3 (ipykernel)",
   "language": "python",
   "name": "python3"
  },
  "language_info": {
   "codemirror_mode": {
    "name": "ipython",
    "version": 3
   },
   "file_extension": ".py",
   "mimetype": "text/x-python",
   "name": "python",
   "nbconvert_exporter": "python",
   "pygments_lexer": "ipython3",
   "version": "3.9.7"
  }
 },
 "nbformat": 4,
 "nbformat_minor": 5
}
